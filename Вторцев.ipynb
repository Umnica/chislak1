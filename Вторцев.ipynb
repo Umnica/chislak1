{
  "nbformat": 4,
  "nbformat_minor": 0,
  "metadata": {
    "colab": {
      "provenance": [],
      "authorship_tag": "ABX9TyPJEOvAIYfGkneFOVPBlK4n",
      "include_colab_link": true
    },
    "kernelspec": {
      "name": "python3",
      "display_name": "Python 3"
    },
    "language_info": {
      "name": "python"
    }
  },
  "cells": [
    {
      "cell_type": "markdown",
      "metadata": {
        "id": "view-in-github",
        "colab_type": "text"
      },
      "source": [
        "<a href=\"https://colab.research.google.com/github/Umnica/chislak1/blob/main/%D0%92%D1%82%D0%BE%D1%80%D1%86%D0%B5%D0%B2.ipynb\" target=\"_parent\"><img src=\"https://colab.research.google.com/assets/colab-badge.svg\" alt=\"Open In Colab\"/></a>"
      ]
    },
    {
      "cell_type": "markdown",
      "source": [
        "#Нужно:\n",
        "Cмоделировать выборку дискретной случайной величины, распределенной по закону Пуассона:"
      ],
      "metadata": {
        "id": "351qWXHZ22aI"
      }
    },
    {
      "cell_type": "markdown",
      "source": [
        "![image.png](data:image/png;base64,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)"
      ],
      "metadata": {
        "id": "WKZx28DMzMdC"
      }
    },
    {
      "cell_type": "markdown",
      "source": [
        "![image.png](data:image/png;base64,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)"
      ],
      "metadata": {
        "id": "f5pqUZl7zQCl"
      }
    },
    {
      "cell_type": "markdown",
      "source": [
        "#Алгоритм:\n",
        "\n",
        "1. Задаем параметры\n",
        "2. Делаем интервалы;"
      ],
      "metadata": {
        "id": "bot4EgNH3s4c"
      }
    },
    {
      "cell_type": "markdown",
      "source": [
        "3. Генерируем равномерное распределение с параметрами (0, 1) .\n",
        "4.Если α принадлежит некоторому интервалу, то в конечную выборку добавляем значение индекс этого интервала;\n",
        "5. Снова повторяем пункт 3, пока не получим N элементов выборки;\n",
        "\n",
        "#Проверка принадлежности полученной выбори распределению Пуассона.\n",
        "\n",
        "Для этого нужно проверить:\n",
        "1. близость мат. ожидания\n",
        "2. выборочного среднего \n",
        "3. теореиической дисперсии\n",
        "4. выборочной диспрерсии\n",
        "\n",
        "##выполнить проверку с использованием критерия Пирсона."
      ],
      "metadata": {
        "id": "6DLRckeF4U9D"
      }
    },
    {
      "cell_type": "markdown",
      "source": [
        "В первом задании используется стандартный метод моделирования дискретных случайных величин.\n",
        "\n",
        "Во втором – один из двух  методов моделирования непрерывных случайных величин.\n",
        "\n",
        "Метод исключения (если дана плотность).\n"
      ],
      "metadata": {
        "id": "dDB7AZZK-V0l"
      }
    },
    {
      "cell_type": "code",
      "source": [
        "import random\n",
        "import numpy as np\n",
        "import math"
      ],
      "metadata": {
        "id": "uMyLclzJBXzH"
      },
      "execution_count": 75,
      "outputs": []
    },
    {
      "cell_type": "code",
      "source": [
        "def p_k(k, a):\n",
        "    return a**k/((1 + a)**(k+1))"
      ],
      "metadata": {
        "id": "iCukrTN7BZsn"
      },
      "execution_count": 76,
      "outputs": []
    },
    {
      "cell_type": "code",
      "source": [
        "N = 1000\n",
        "a = 10\n",
        "k = 0\n",
        "\n",
        "array_random_alp = np.zeros(N)\n",
        "array_memorize_chi = np.arange(N)"
      ],
      "metadata": {
        "id": "0eWKKNAdBcuo"
      },
      "execution_count": 120,
      "outputs": []
    },
    {
      "cell_type": "code",
      "source": [
        "import matplotlib.pyplot as plt\n",
        "\n",
        "k = np.linspace(0, N)\n",
        "plt.plot(k, p_k(k,a))\n",
        "plt.show()"
      ],
      "metadata": {
        "colab": {
          "base_uri": "https://localhost:8080/",
          "height": 338
        },
        "id": "hxrDTM1PK1fd",
        "outputId": "40124ea2-a431-4f92-ae32-06dfabc54d43"
      },
      "execution_count": 121,
      "outputs": [
        {
          "output_type": "stream",
          "name": "stderr",
          "text": [
            "<ipython-input-76-3dd889491854>:2: RuntimeWarning: overflow encountered in power\n",
            "  return a**k/((1 + a)**(k+1))\n",
            "<ipython-input-76-3dd889491854>:2: RuntimeWarning: invalid value encountered in true_divide\n",
            "  return a**k/((1 + a)**(k+1))\n"
          ]
        },
        {
          "output_type": "display_data",
          "data": {
            "text/plain": [
              "<Figure size 432x288 with 1 Axes>"
            ],
            "image/png": "[encoded data removed]"
          },
          "metadata": {
            "needs_background": "light"
          }
        }
      ]
    },
    {
      "cell_type": "markdown",
      "source": [
        "Математическое ожидание"
      ],
      "metadata": {
        "id": "JzOIh3knDL0m"
      }
    },
    {
      "cell_type": "code",
      "source": [
        "eps = 0.00001\n",
        "E = 0\n",
        "k = 1\n",
        "while(k*p_k(k, a) > eps):\n",
        "    E += k * p_k(k, a)\n",
        "    k += 1\n",
        "\n",
        "print(\"Мат ожидание\", E)"
      ],
      "metadata": {
        "colab": {
          "base_uri": "https://localhost:8080/",
          "height": 0
        },
        "id": "MID6wuKeBgno",
        "outputId": "488f9da7-6e89-4bad-f278-a09218577f49"
      },
      "execution_count": 122,
      "outputs": [
        {
          "output_type": "stream",
          "name": "stdout",
          "text": [
            "Мат ожидание 9.999891884730374\n"
          ]
        }
      ]
    },
    {
      "cell_type": "markdown",
      "source": [
        "Дисперсия"
      ],
      "metadata": {
        "id": "JXELHF6lDN59"
      }
    },
    {
      "cell_type": "code",
      "source": [
        "E2 = 0\n",
        "k = 1\n",
        "while(k * k * p_k(k, a) > eps):\n",
        "    E2 += k * k * p_k(k, a)\n",
        "    k += 1\n",
        "D =  E2 - E*E\n",
        "print(\"Дисперсия\", D)"
      ],
      "metadata": {
        "colab": {
          "base_uri": "https://localhost:8080/",
          "height": 0
        },
        "id": "WH2xzfubBijh",
        "outputId": "7f1782d0-f74a-4a5b-801d-54e6f980defd"
      },
      "execution_count": 123,
      "outputs": [
        {
          "output_type": "stream",
          "name": "stdout",
          "text": [
            "Дисперсия 110.0020452795113\n"
          ]
        }
      ]
    },
    {
      "cell_type": "code",
      "source": [
        "for i in range(N):\n",
        "    alp = random.random()\n",
        "    array_random_alp[i] = alp"
      ],
      "metadata": {
        "id": "zaI-B1noOVaU"
      },
      "execution_count": 124,
      "outputs": []
    },
    {
      "cell_type": "markdown",
      "source": [
        "Закон Пуассона\n",
        "\n",
        "![image.png](data:image/png;base64,iVBORw0KGgoAAAANSUhEUgAAAOQAAAArCAYAAABo6STsAAAAAXNSR0IArs4c6QAAAARnQU1BAACxjwv8YQUAAAAJcEhZcwAADsMAAA7DAcdvqGQAAAW6SURBVHhe7ZxBTvQ2FMeHXgCOgHqCQeoeuAGL7oEjsP02wKJshxsgdlV3nABYf6p6gkqsewm+/NL5I9e1Hc+Q2B7yflKUSWyS5+f393OcGfbeOxaGYTTBT+u9YRgNYII0jIYwQRpGQ5ggjaZ4eXlZ7O3tLU5PT9dn5oUt6hjNcXt72++vr6/7/ZywDGkUhQzIZoSxDGkUhykpxEKPcsrIlDc3N/02l2xpGdIoTioHkD1PTk76vUR4fHzc7+eACdKohjKly+vray9GLeogXgQ6F0yQRhWYhsag7Pn5uRfl3J457RnSqAYZEuG5GVDPj4iQbMl0dU4Z0gRpVGNocQcQpk1ZDWNicqehcxIjmCCN4iBGXmkoM+qLAC2AbbmDxRTYlNUoyv39/eLp6al/doScaWtp9BxbA8uQRjHIhFdXV/95yS9htgSrvNWyNhlyTDoHv3cNWh8NQ91N6tcEO2nfLlLbz/iNcAv5j/Pds+L6qD6ytQaj3pWGhBxL41JOp2y1Wq2Ppme5XPb3ZM92cXHR28Y+FrR+QKtN2vy2UdctLyHkmC2CstqiDMH5mnaFqOWrUQVJIMScngpKzlNeEt3PDV599m3BvlCQS3ShjlObSncq94z5Gfy2zQX6Ibb51Oo7GK13YkELamAKGk+GKoXsidnsEus44DqhtnHdlDCmINfPNQJtV8CHisMhX07BaHckAGMdTVlOoOSIA4flbilkj3tP9+90nmPqxq6H3ZS7badDh+4/BTl+xq4cP88R3zd8Lj14Za2yHh0dfaw66R2SvwrF+di38inrGvfx+fLy8n9/z9/mvP/h61S52zZgJ3Z0nbM+8+852e/jt5l2HR4eVnmh7fs51E+Q4+ddxW13qO0pqO/3e2lfDb6HRDzn5+cf377HYAzFeIzlmD3lsUvpO4uAUAjiUP2S7390L+zQMjxL8qvVqrdR59x2xtC7NOo8Pj4uHh4e+uMcNgmaod8Eun7GDvXbNn4e065SkDgODg4+fEDbU/3WIoOCVKPoxG4q9hFsrghTglQZ11Cgc84fjYB7dFOEIh2soMQ2N5v5984RJHWwm+vUCoBW/YwNY+L2lYv6QDEofwyEd3Nkf1OHTqRj5RAaS6P581TjVQ+GgoC6TPdSGYY6uaTE4QoyVY+OhpTdCgbXP6XZ1M/YWUKQsEmfDYHNIR/Tn5xnww8l2zcmWYIMCU4OUDArwH3cenyG2C0pLzVyy94hQTJlf3t7S9ZRwKXqxJCIcsCPMcb281h2lYI20fYWbPkMWYs6yhJCnZUrHNVbLpf9HvxRU9fc39/v963Ac9gQ2L5tIDC9zN2GkJ8Rm9g2O4XuH9taZZNBpRm6UXQQqqlqNwoFl4M5R5kLx+4tdKxruPh1Y/BKIWfzr++je/ntCJGyS3bnXGcqpvDzroH/3baG2r4LZE1ZNR1gFfLs7Cz4K26mdjz/uVmTEYoR1D0XeybjPPW5z9T4GR98e1xof8hNZB/5QaNxCft9uLe/uhvzM3Upq2Hn1CiG1CepPt2evxZ3P/+6WPzx9+LbL+tTY4IgUzDSZFT79IjE39bMMinIuK3atin4mfbUBn+yETc+irlmff797v237+vPIzOoNDowR5CQW8/ns2IuwbZta4mW/CzRpQTZZkz88/775d37n+ujsckSpLYctglcrh3qmJb4ClmyJT/z655UrFDGL3HmxiTD/iaBG5u2tMgui7I1PysLxqBs1wfAbcj+YoBhjIn/7pbFGHcBkIW0bgDc6GuIXwH7Fx5GFRCgxMfqKGLsMmJ/DN30ev1pXpggjeIgRoEYESbfhnJFyCs0trlhgjSqwbRVP19jaqrpKyBG/6dtc8AEaRSHrEg2ZIqKKDn2maMYe/qlHcMoCGGnFV9WUhWGc1xV9bEMaRRFz4+hRRuVsWeVNZQ5vzomSKMoCNEVIws6HGtxB0JinQv2HtIwmmGx+AHNFgqPmVLDUgAAAABJRU5ErkJggg==)\n"
      ],
      "metadata": {
        "id": "taMcvoWvPaU-"
      }
    },
    {
      "cell_type": "code",
      "source": [
        "lam = E\n",
        "def p_puason(k, lam):\n",
        "    return lam**k * math.exp(-lam) / math.factorial(k)"
      ],
      "metadata": {
        "id": "gRhbWrRLOm7e"
      },
      "execution_count": 125,
      "outputs": []
    },
    {
      "cell_type": "markdown",
      "source": [
        "распределение пуассона с параметром λ = E\n",
        "\n",
        "\n"
      ],
      "metadata": {
        "id": "Q307bMqSU0IS"
      }
    },
    {
      "cell_type": "code",
      "source": [
        "k = range(0, 40)\n",
        "p_puas = [p_puason(i, lam) for i in k] \n",
        "plt.plot(k, p_puas)\n",
        "plt.show()"
      ],
      "metadata": {
        "colab": {
          "base_uri": "https://localhost:8080/",
          "height": 265
        },
        "id": "AMj3TjrIQ9EO",
        "outputId": "135e31f3-03cb-49ee-f1c7-3474ca1ce4df"
      },
      "execution_count": 126,
      "outputs": [
        {
          "output_type": "display_data",
          "data": {
            "text/plain": [
              "<Figure size 432x288 with 1 Axes>"
            ],
            "image/png": "[encoded data removed]"
          },
          "metadata": {
            "needs_background": "light"
          }
        }
      ]
    },
    {
      "cell_type": "markdown",
      "source": [
        "Равномерное распределение "
      ],
      "metadata": {
        "id": "87EGsJ82UMk3"
      }
    },
    {
      "cell_type": "code",
      "source": [
        "k = range(0, 100)\n",
        "array_random_alp = [random.random() for i in k]\n",
        "plt.scatter(array_random_alp, k)\n",
        "plt.show()"
      ],
      "metadata": {
        "colab": {
          "base_uri": "https://localhost:8080/",
          "height": 265
        },
        "id": "UpfedTL1TjPL",
        "outputId": "13b25888-976e-437c-f086-e48fe65af040"
      },
      "execution_count": 127,
      "outputs": [
        {
          "output_type": "display_data",
          "data": {
            "text/plain": [
              "<Figure size 432x288 with 1 Axes>"
            ],
            "image/png": "[encoded data removed]"
          },
          "metadata": {
            "needs_background": "light"
          }
        }
      ]
    },
    {
      "cell_type": "markdown",
      "source": [
        "Интервалы"
      ],
      "metadata": {
        "id": "eIyTFJk8VO7p"
      }
    },
    {
      "cell_type": "code",
      "source": [
        "P_L = 0.0 # левая/ правая граница \n",
        "P_R = 0.0\n",
        "k = 0\n",
        "arr_random = [] # список со сгенерированными числами\n",
        "final_sample = [] # конечная выборка\n",
        "for i in range(N):\n",
        "    alp = random.random()\n",
        "    arr_random.append(alp)\n",
        "    while (True):\n",
        "        P_R += p_k(k, a)\n",
        "        if (P_L <= alp < P_R):\n",
        "            final_sample.append(k)\n",
        "            k = 0\n",
        "            P_L = 0\n",
        "            P_R = 0\n",
        "            break\n",
        "        P_L = P_R\n",
        "        k += 1\n",
        "\n",
        "print(\"список со сгенерированными числами:\", *arr_random)\n",
        "print(\"cмоделированная конечная выборка:\", *array_memorize_chi)\n",
        "sample_mean = sum(final_sample)/N\n",
        "sample_variance = sum([i**2 for i in final_sample])/N\n",
        "\n",
        "print(\"выборочное среднее:\", sample_mean)\n",
        "print(\"выборочная дисперсия:\", sample_variance)"
      ],
      "metadata": {
        "id": "AtRxOqgsVirn",
        "colab": {
          "base_uri": "https://localhost:8080/",
          "height": 0
        },
        "outputId": "50b4c6be-d63a-4342-c8b4-0824b9244b9d"
      },
      "execution_count": 128,
      "outputs": [
        {
          "output_type": "stream",
          "name": "stdout",
          "text": [
            "список со сгенерированными числами: 0.11756078769027845 0.6836978051068024 0.22633994005897462 0.684640843549945 0.5027958802251408 0.4664460572206097 0.7539910165233222 0.09807865493536871 0.9009094222677582 0.5224039077683542 0.21344668357874386 0.19225845032224953 0.6386785268876056 0.39321385578384827 0.7915552951310227 0.06569086928518786 0.7841498480674826 0.96411762323666 0.7053988281379734 0.49230343997836157 0.540553772642372 0.9988825219246674 0.5693505663475071 0.13475945059277716 0.7246269119492731 0.15712623452315355 0.6098011174528928 0.8489244622407632 0.5591346908578972 0.6752318646084452 0.9745304266549061 0.633284580553884 0.4026555029804999 0.47848461214331073 0.18033705251183063 0.09780701514882217 0.09198432962701564 0.9706113362386822 0.5070723430096578 0.6359387751247237 0.1806949647161049 0.20832857752176992 0.06711008068479751 0.9661087056920893 0.6671874529055857 0.7816395275557398 0.39336376964313235 0.06925107191643665 0.1337179624326007 0.13669789800016363 0.8172171618167238 0.24680509724589372 0.8998513736948994 0.44030174883374373 0.24096823667505207 0.5832953930848881 0.8772071302286415 0.9438421789166329 0.8455134264649735 0.4510567731843307 0.013038015697189653 0.7505790055013086 0.9108629803639428 0.6485436923444359 0.43774559472706154 0.2532935456486559 0.9694823305062324 0.021760757496431027 0.1572299222981246 0.46448067383311276 0.25261962598682464 0.48193685417002463 0.6322342553581465 0.8362080086699949 0.7941702615390537 0.24617085131969263 0.6265655276363932 0.590778398499328 0.7112275472517763 0.021452606074579106 0.16266411988205987 0.4188946754248648 0.18439211410431378 0.47171074833381965 0.17020727334096475 0.5091749605970075 0.15972298218386627 0.6379739995374124 0.5520848110043557 0.9533236253878113 0.9916540161647847 0.3707933099798866 0.031602153657755316 0.41907002134294813 0.577408392480142 0.5214559499080897 0.10127656776068172 0.402044306042171 0.7887462343477565 0.5640429004507928 0.29850011234554297 0.9598717802105732 0.1524266829933938 0.5552973829374328 0.5408541923919834 0.4885118316875321 0.2644711956339967 0.6797386507505984 0.31462839137072096 0.3587056847401151 0.37097466956563985 0.16873101801526547 0.7717400754033911 0.2777296110819977 0.19017204441548718 0.8550228207828968 0.6325672650748504 0.6611837471233759 0.7828774366712192 0.1961975264435466 0.39380328557707056 0.5080594101817384 0.2319564822099307 0.7652563595663243 0.012000176251896089 0.4797400133507024 0.46537562745378647 0.9387980068016308 0.2146024138293421 0.9122003712071872 0.06772018201256136 0.13218456680639512 0.5600943857632797 0.03196918527546089 0.9343179597648442 0.06310690269621722 0.7236649874461997 0.008793013970045283 0.31994774202946463 0.6792571861254157 0.05754943776131882 0.9364449844644364 0.7006069564532804 0.47044013028030507 0.6404685135795354 0.3049952933220309 0.42701556446657774 0.17437550107641842 0.16017405913523974 0.42388961670741765 0.3562110509527392 0.05650411949050893 0.5012025686987244 0.7241599910924624 0.2353330713749282 0.1241313582521042 0.7759545626180203 0.30236766599790665 0.2953692518567089 0.09362593768973648 0.8052223154569457 0.9065216307517926 0.4247102609145854 0.5775251619412871 0.5791226989557833 0.25967399076757725 0.5527115321225737 0.8867351013531138 0.3692572293426378 0.5929743113979369 0.2609021443055858 0.6622396783061864 0.13325734746966755 0.5275416330711674 0.5399322062232526 0.7724688087296239 0.22334314442689962 0.6608953593968349 0.540320089412442 0.9300618216981525 0.5326518779252073 0.2801919283990104 0.3634058671034329 0.15405652554920157 0.004490958483898244 0.8248181540720892 0.15113912762329407 0.9553977027521517 0.09994494117563735 0.4670102435313589 0.7448980492153783 0.7890614628977405 0.8911035992139474 0.41842100913810587 0.3655209810514397 0.7299254920418705 0.08478353951018358 0.14764504306407056 0.7290529612460315 0.8230390841863672 0.611617809816441 0.9519969215878996 0.45306438678766714 0.12015505928766679 0.6194427525087577 0.527888033727585 0.6775248537400723 0.25769643622591487 0.5383581755375617 0.22368340293010136 0.4404461987009447 0.7920027154905775 0.35708725620530035 0.37143863753700623 0.46308344943564184 0.1946820538182673 0.7172243309139533 0.2083611375328851 0.4125543924498356 0.19956321704761215 0.016278998820438373 0.994460658962295 0.7440421940440428 0.29233912714914634 0.9431714325984956 0.21449465392267353 0.48588421566662676 0.26778961506839183 0.834270592999247 0.7969225603060157 0.05110869616402802 0.8810518334413305 0.5525378226521381 0.32274762731574524 0.6527898796647841 0.3359809297004689 0.6843010233671663 0.9968681583636642 0.8178495338916356 0.7316909469391845 0.7236804970246727 0.11610652461190596 0.4466271768931661 0.8146400907699304 0.3408333774601995 0.480049806028903 0.21027940345204266 0.9234739020394406 0.8806270086928604 0.3815610462945761 0.831418024481691 0.8045255204691463 0.2701010028643164 0.9848741862154067 0.9623065061977727 0.7085623014846841 0.39274877092247773 0.7543235132628108 0.8705333201843002 0.4417665934096203 0.7878009377785787 0.015058700436008543 0.933817224335761 0.31319375694920837 0.5408834412776015 0.9000323644649568 0.33634039330110743 0.026146501471828842 0.6957288778309758 0.5343019596979646 0.6261628646559109 0.752576472114799 0.15961052799443054 0.825106038320079 0.1759966158937103 0.48633214226967625 0.9079781761695987 0.7448090834354331 0.44274797746303385 0.048677901761873144 0.14423241432478295 0.56268148036759 0.3288985961961176 0.10559568177584067 0.45650046952604606 0.9011146274165105 0.6036375154640696 0.14430825467300734 0.3345380295115792 0.24092968219408495 0.37291238529073867 0.3341352889243868 0.13330542615657237 0.5136452295119548 0.8795886585083583 0.2009220869059677 0.07950204544409001 0.34623033928838076 0.18071864325190634 0.0069694517747962426 0.8181205429515653 0.8773564037598759 0.6935852976775129 0.6322717066965462 0.848473878482092 0.4769359032429461 0.8346034527945739 0.38742131239045363 0.5893716549436164 0.7898504264454304 0.2038314966909982 0.3990160427193461 0.5907938133630968 0.19411132130010655 0.4073502490146449 0.8901036723825492 0.6151539105954543 0.5188728535045861 0.9754635175109431 0.11507502939188319 0.7263470037855153 0.13588976579669265 0.8040316400159959 0.9566712409318376 0.28226575391059705 0.5918330051097719 0.773675022533723 0.4382400218903656 0.9453693427488719 0.605494640285326 0.5456684909838602 0.21097597496266673 0.5292783404923797 0.6263352458090568 0.7151956660596658 0.24013705060235124 0.0218860366075041 0.2428692145581819 0.6064622918714717 0.9867880492609431 0.8795126608068432 0.17675327156961584 0.6669106491553326 0.33017541229956204 0.20191437038817306 0.8978555791066566 0.8658761948079154 0.7907424279797304 0.9049817243457271 0.4689471955374278 0.5462453700753591 0.09157427823335673 0.48157573257282693 0.8851267137973523 0.9100026177115125 0.5004424432765122 0.9911271024804841 0.45544463947350633 0.958000442803776 0.9168571008669747 0.5221879410121701 0.1900916259921306 0.03740666460314268 0.6858309665560421 0.6579010581889161 0.36083701962265213 0.1307322175303297 0.2908050924748289 0.008986390969113356 0.07871775126155844 0.772550318810603 0.07220139375463108 0.01850175488519379 0.9349034282529994 0.6078505088583753 0.7087919330676077 0.015156605364328057 0.786391883436147 0.046074930043259354 0.2553752989598129 0.9607176033320117 0.44022621325660005 0.4380649633527437 0.8171618528021806 0.8122186312611195 0.09953141045767977 0.150649231123413 0.25963747875414644 0.886699190662921 0.5584864173586666 0.6418960876305962 0.27955169503156696 0.956452920055618 0.9988951763099502 0.0403534945725923 0.7661580019745144 0.22012395453429623 0.7951503645089378 0.5713057822023508 0.019129125713438833 0.24381230020352318 0.6837455196723553 0.2426327582190314 0.28668996411552294 0.08630109326132906 0.021155644286380393 0.060118063129764754 0.49038477815995396 0.6089360395021681 0.10829282888255809 0.03870915051019075 0.10551831196577688 0.8663361899050274 0.8092540555594566 0.09188975380688136 0.23344666012122572 0.5130910044086601 0.342728450454011 0.2514522152466244 0.8415878757347135 0.6152256062082582 0.3025589741278465 0.42850299592253593 0.4370104308319206 0.8492311005437989 0.2472327640467158 0.06196247917010589 0.5317010692003223 0.6152813369862191 0.8977353044417018 0.6103625332758773 0.6842476908926248 0.7345029732177468 0.13816326973142978 0.8107393846438704 0.5308202153337046 0.2070112342284942 0.9670891484856887 0.18046409027180943 0.8942322109869881 0.1579550321835741 0.6131727202499089 0.7952084626320514 0.9115302510390798 0.5318681576822664 0.10270637383675985 0.8109139931102056 0.43890021203734764 0.6172405751842304 0.04415207920585196 0.5359860312343296 0.5989305023843844 0.2243365601889915 0.6465069771376197 0.6893845618280109 0.24458961648618183 0.6471393198175234 0.2251739608586264 0.05951386561251548 0.16764083185336554 0.9895372887871378 0.6637053794059008 0.5428230491591566 0.3138084076892269 0.04050000792142827 0.2919055310430757 0.8866312304708617 0.30190750006175215 0.8278234244546764 0.06490246843708647 0.18532569649214437 0.9246864711233992 0.01680383553349496 0.6904980036455048 0.8492032419408793 0.5805123818240108 0.7253462375325962 0.03849839787355547 0.1943900563534693 0.6425262875254953 0.9802164689752875 0.07096645655096168 0.7744992169332816 0.6677278980482774 0.05676478711400201 0.9225778421950669 0.9688833075858563 0.24563506771282106 0.7373842651033395 0.7348841507658195 0.5991341864961158 0.7955151960841411 0.6936346888406572 0.8256152918041703 0.9221497871572497 0.5681875000095016 0.20451452442056528 0.17824388545616465 0.2583666639107459 0.15458051488136493 0.13207497391753575 0.3472687706800338 0.7633975592781446 0.1892331924008408 0.7689011494914083 0.10629229386496997 0.5039983819015234 0.8530354349472126 0.7617631372741356 0.37882302448840943 0.42337864283993976 0.18671727786954595 0.4209494120198146 0.058401069202873135 0.3911656814557326 0.9335701892043138 0.599663887173194 0.4047312830473695 0.4540656489981112 0.5697452380525626 0.8885703668163022 0.40676258558378486 0.6968206918434717 0.8300213224181422 0.9073436912460905 0.6535539424025464 0.14439726147430842 0.2906410343519116 0.669922410845919 0.724953515072163 0.6089507785409395 0.49649632531885 0.021542227621325405 0.2963638642090911 0.7991865292334296 0.8226519984701026 0.9585581828316968 0.6566202083765951 0.8784712248418682 0.6584598296698644 0.3639081082636846 0.29160646608915186 0.730356547621055 0.7184209850598413 0.7201487346987934 0.6067226272651449 0.19691221602222864 0.5205598825968905 0.8476291713516021 0.92001898045201 0.8836341385468377 0.009142927165643688 0.11544701602182028 0.4859736509553848 0.4440330045845331 0.7406626960341095 0.8987748401341341 0.033777600919668194 0.4088671196897642 0.9914584014175123 0.17940067998141773 0.6203374408063953 0.08163547115664993 0.9674667321123126 0.9397833358623747 0.702568973511766 0.3494709952446893 0.39032768230598636 0.032586493463427346 0.5464041380484579 0.4323015380545687 0.08522522669182997 0.1649826980429112 0.42914818330768534 0.40800493613420563 0.9298284847079701 0.21590774401331392 0.021966611017063542 0.5932951312161727 0.7668881565228175 0.12398506723449154 0.6839358610567021 0.9129922227040118 0.9296679948898102 0.2778580161775265 0.9413830775305758 0.3222425294516953 0.7024997033120954 0.6957634521239968 0.49878908281122714 0.20345419089701222 0.32068564172950664 0.06830501316658721 0.5181673160762399 0.3791486389813593 0.044312038292492195 0.3200568208024177 0.8517374535846112 0.5611248050608094 0.6814728065868425 0.863738878631141 0.15376032493662328 0.06980655988362738 0.08456578249542357 0.09061537330329805 0.1985448836216578 0.8307794136970003 0.5248443521363234 0.7592550749269875 0.6282210800589135 0.5249588320668481 0.2874696387664323 0.7369113469143039 0.3459021662854518 0.4813313818548387 0.8574031545794429 0.6277706461961052 0.8444361816988589 0.47086867749188155 0.9035389280539552 0.07572914820716548 0.5479936745544123 0.10401620302413372 0.9453951982886217 0.4348178293713114 0.6124319607099324 0.10402755552479948 0.010088387264489684 0.5951412321962635 0.7539282908882836 0.06967916696636667 0.29374182443514685 0.9503147525119198 0.1436331401276567 0.7480396277917588 0.19923551714188914 0.9550222530473341 0.886149224509473 0.5993133351778535 0.45310765512445994 0.6760297207053231 0.43788322158337367 0.027093089153709338 0.48070737750827586 0.8118643218532777 0.9736931366634249 0.07197323112941956 0.030633016807662727 0.5706592359860156 0.7200447067813683 0.11652614962985874 0.2170577171769862 0.7755922519013706 0.5017782475547801 0.12524454753849434 0.6465005097016554 0.32977240534185404 0.48521281554615103 0.8216926054198874 0.6094014296788324 0.3661433036307684 0.661362093027775 0.8330077398717591 0.08354893940221153 0.028908667295794 0.6702589813461514 0.6231126745166835 0.2736682054385786 0.5865722634046306 0.593866187620223 0.1465135394145891 0.6416103016679923 0.2099999001571735 0.43384072522998307 0.4654182870583189 0.8266692845820633 0.5380142393262983 0.6463955484422613 0.3965041946357597 0.14079959744169002 0.9997416918326342 0.6991919113243896 0.8426667461399145 0.6180289049425483 0.11434892036071986 0.6095414971298552 0.2027884792767224 0.5144933835715524 0.7341107133782324 0.25710221300639746 0.7448364179308197 0.08965983589945026 0.5198043622196356 0.801889981800947 0.36800547241062664 0.9491648097550955 0.8077643986474138 0.20272739357582203 0.010173359405653781 0.24467790235718712 0.258939609583713 0.19212368799936752 0.5827843077925255 0.7010553715051997 0.20102559121174646 0.48389579519715475 0.9276788077135543 0.4965588846242245 0.6712947583679482 0.5740991344513725 0.38898903089403003 0.5711639925314318 0.35739852766706737 0.43595132609297904 0.991223770829822 0.38651378994112673 0.024123909540053723 0.2452618512289414 0.1482522160857902 0.014525327895838824 0.4542296410198099 0.9963493828807519 0.8727449137672002 0.3901134448777537 0.7134060688323096 0.5116140373374464 0.8004647653026469 0.13983427697204953 0.49247029542519527 0.4521694992458969 0.510488800385232 0.0038722903048195034 0.20022576743351106 0.290392358201644 0.9905609898681642 0.139730575396944 0.21130050604924666 0.8800916610292047 0.9593109163940767 0.304109712692912 0.00026338927616353924 0.6755440764791231 0.19966599235386417 0.2646667331164684 0.8401758654074871 0.06467506386802735 0.6823494192574588 0.934090324668399 0.6359500902431536 0.050831170196397824 0.6925470302398745 0.9242197882138043 0.5804474018118086 0.5838053911244108 0.1403051757952547 0.34474867895019023 0.720619894131849 0.38579291677553385 0.7090251890181564 0.14252238134236528 0.9213252780426155 0.3820504314236117 0.5535886561348361 0.8484951595186976 0.6847490240910814 0.8930476460588392 0.6738305701703989 0.9954568410889945 0.8551226590731784 0.4583280634603045 0.7796644279885283 0.8798085930105635 0.1139340479249974 0.5985888428113921 0.9523882981304114 0.23531553187494536 0.7922770701489643 0.21652388848473225 0.7983668561794209 0.6409097421374598 0.14285639872066747 0.608158314909298 0.10097905072255309 0.2693161495128933 0.8104971295083865 0.2643914459326775 0.10528422244284386 0.2203392027732456 0.8132862500989863 0.18158574251084003 0.8486358597277671 0.26937785818999216 0.5868457473542029 0.7302414281858249 0.5732131059465361 0.3968744553297897 0.9839104839930126 0.15563526144316164 0.27372353469448574 0.7557705620065841 0.23253158571548682 0.867941394354082 0.6218307490954538 0.2816245572396022 0.09925057536920501 0.09910388582061036 0.3445613409746563 0.11277762602088304 0.5928976167977603 0.92730032477662 0.24955586676028207 0.3770229614688473 0.15819875076647683 0.21143756369261457 0.7374443916485292 0.4808985820131223 0.7763237405388883 0.9326670746602119 0.7126392885076867 0.5700888621817083 0.4093472002121261 0.988423311797864 0.4211881206377768 0.6279667080968789 0.4988304809577825 0.16732794747063906 0.5102860852052545 0.19945063184571044 0.6783638239810325 0.46604319299555996 0.534983610090535 0.7890945384511611 0.2617961767823952 0.6065017740295018 0.40266641523124436 0.9538821027012484 0.9042586090638562 0.4245248577660552 0.9032801507322498 0.3858838067792856 0.9227368667060416 0.30423143372893524 0.2612124825793727 0.37326141027514936 0.4247741272957156 0.220557838896694 0.3784570628831231 0.7626057563687273 0.08413237109253979 0.9521921693574034 0.6746650266795932 0.584989655163615 0.9061128039243761 0.5872145579925881 0.3233988157288915 0.9793656141677505 0.8238610314405163 0.6896480434328014 0.22896987228435084 0.7496115536120901 0.44416902035482864 0.5788368005864285 0.08233748087397985 0.1781151370744104 0.3870372554579624 0.5428744882155537 0.7517758862718545 0.6747380856073913 0.2553936695397543 0.5959259399378644 0.6150129709220217 0.29158969346088826 0.22751154192196565 0.3729619910154879 0.7523570395675883 0.8561269711225383 0.9534859327479424 0.3643502887799943 0.41925114473270475 0.6971839232863807 0.2423057347873252 0.324127750597616 0.4248778174206945 0.2150105210381299 0.29621165720352216 0.4354432959361928 0.4712487668393148 0.52983417974122 0.4969684276629649 0.6898721829476364 0.2850775475373053 0.9738760540298885 0.24900384375458717 0.7599489823793807 0.1963940259334439 0.7597404088564635 0.508545373334026 0.7064836478187211 0.5639500154772068 0.1546861962437689 0.5854293501517873 0.5553690403076846 0.7126164714225736 0.17586363050989628 0.10075685597237061 0.12296634461954892 0.6767283445617615 0.9770210189532565 0.4546633618061241 0.7039402877602529 0.685279812024032 0.14235642092062528 0.9251254503621877 0.43456560043341796 0.7467369507712701 0.5256263659689588 0.18673622571539938 0.10788034681541203 0.36909550876599007 0.5361731240154392 0.4303167223778718 0.2829457539057897 0.7797135265817896 0.004815009534285819 0.23012447439663897 0.0589004502270164 0.5594061237196565 0.394160283069075 0.4490258488780816 0.045140911960388275 0.17507028648825607 0.9549946683988533 0.34872777574757763 0.7490626307791954 0.16504783607357953 0.12096413646717918 0.29576885825136856 0.11748274792119073 0.6815827773746015 0.5875199792724564 0.15767233032180494 0.6181097147668324 0.4007669575526954 0.937892886777395 0.057413038736873534 0.11055147303651403 0.8020710253016939 0.14911750793859735 0.5918735276543574 0.9356008985822187 0.1275169601021301 0.039116862559114285 0.23509503945563814 0.3585093013604317 0.6021418770052943 0.5539673831402891 0.3894807440837238 0.6837337818944272 0.6692598965433934 0.48867772274950905 0.8860580761852132 0.32444544211538473 0.6022464227915075 0.7794659200370622 0.5396012835722706 0.4218514109611773 0.4033910628339107 0.6595090531624254 0.09447754197245795 0.5947333732514556 0.23919284370469018 0.5594501993154912 0.755684726440092 0.7649734186322366 0.7876779014097411 0.1591820221382232 0.619385237711471 0.12821300738392016 0.04811011666256415 0.9507265334063665 0.6028938759416391 0.23803541769647807 0.3761655212263646 0.7316981344709829 0.831357948405723 0.010941541317029735 0.7922402414331654 0.9283623084501491 0.8189053964213285 0.6631818735965622 0.5414190449374217 0.9681069794170019 0.9249904111227395 0.3856572874058535 0.801111624576809 0.3305178613436037 0.6174798395261094 0.1709309125355586 0.6359157969877568 0.9388524987823814\n",
            "cмоделированная конечная выборка: 0 1 2 3 4 5 6 7 8 9 10 11 12 13 14 15 16 17 18 19 20 21 22 23 24 25 26 27 28 29 30 31 32 33 34 35 36 37 38 39 40 41 42 43 44 45 46 47 48 49 50 51 52 53 54 55 56 57 58 59 60 61 62 63 64 65 66 67 68 69 70 71 72 73 74 75 76 77 78 79 80 81 82 83 84 85 86 87 88 89 90 91 92 93 94 95 96 97 98 99 100 101 102 103 104 105 106 107 108 109 110 111 112 113 114 115 116 117 118 119 120 121 122 123 124 125 126 127 128 129 130 131 132 133 134 135 136 137 138 139 140 141 142 143 144 145 146 147 148 149 150 151 152 153 154 155 156 157 158 159 160 161 162 163 164 165 166 167 168 169 170 171 172 173 174 175 176 177 178 179 180 181 182 183 184 185 186 187 188 189 190 191 192 193 194 195 196 197 198 199 200 201 202 203 204 205 206 207 208 209 210 211 212 213 214 215 216 217 218 219 220 221 222 223 224 225 226 227 228 229 230 231 232 233 234 235 236 237 238 239 240 241 242 243 244 245 246 247 248 249 250 251 252 253 254 255 256 257 258 259 260 261 262 263 264 265 266 267 268 269 270 271 272 273 274 275 276 277 278 279 280 281 282 283 284 285 286 287 288 289 290 291 292 293 294 295 296 297 298 299 300 301 302 303 304 305 306 307 308 309 310 311 312 313 314 315 316 317 318 319 320 321 322 323 324 325 326 327 328 329 330 331 332 333 334 335 336 337 338 339 340 341 342 343 344 345 346 347 348 349 350 351 352 353 354 355 356 357 358 359 360 361 362 363 364 365 366 367 368 369 370 371 372 373 374 375 376 377 378 379 380 381 382 383 384 385 386 387 388 389 390 391 392 393 394 395 396 397 398 399 400 401 402 403 404 405 406 407 408 409 410 411 412 413 414 415 416 417 418 419 420 421 422 423 424 425 426 427 428 429 430 431 432 433 434 435 436 437 438 439 440 441 442 443 444 445 446 447 448 449 450 451 452 453 454 455 456 457 458 459 460 461 462 463 464 465 466 467 468 469 470 471 472 473 474 475 476 477 478 479 480 481 482 483 484 485 486 487 488 489 490 491 492 493 494 495 496 497 498 499 500 501 502 503 504 505 506 507 508 509 510 511 512 513 514 515 516 517 518 519 520 521 522 523 524 525 526 527 528 529 530 531 532 533 534 535 536 537 538 539 540 541 542 543 544 545 546 547 548 549 550 551 552 553 554 555 556 557 558 559 560 561 562 563 564 565 566 567 568 569 570 571 572 573 574 575 576 577 578 579 580 581 582 583 584 585 586 587 588 589 590 591 592 593 594 595 596 597 598 599 600 601 602 603 604 605 606 607 608 609 610 611 612 613 614 615 616 617 618 619 620 621 622 623 624 625 626 627 628 629 630 631 632 633 634 635 636 637 638 639 640 641 642 643 644 645 646 647 648 649 650 651 652 653 654 655 656 657 658 659 660 661 662 663 664 665 666 667 668 669 670 671 672 673 674 675 676 677 678 679 680 681 682 683 684 685 686 687 688 689 690 691 692 693 694 695 696 697 698 699 700 701 702 703 704 705 706 707 708 709 710 711 712 713 714 715 716 717 718 719 720 721 722 723 724 725 726 727 728 729 730 731 732 733 734 735 736 737 738 739 740 741 742 743 744 745 746 747 748 749 750 751 752 753 754 755 756 757 758 759 760 761 762 763 764 765 766 767 768 769 770 771 772 773 774 775 776 777 778 779 780 781 782 783 784 785 786 787 788 789 790 791 792 793 794 795 796 797 798 799 800 801 802 803 804 805 806 807 808 809 810 811 812 813 814 815 816 817 818 819 820 821 822 823 824 825 826 827 828 829 830 831 832 833 834 835 836 837 838 839 840 841 842 843 844 845 846 847 848 849 850 851 852 853 854 855 856 857 858 859 860 861 862 863 864 865 866 867 868 869 870 871 872 873 874 875 876 877 878 879 880 881 882 883 884 885 886 887 888 889 890 891 892 893 894 895 896 897 898 899 900 901 902 903 904 905 906 907 908 909 910 911 912 913 914 915 916 917 918 919 920 921 922 923 924 925 926 927 928 929 930 931 932 933 934 935 936 937 938 939 940 941 942 943 944 945 946 947 948 949 950 951 952 953 954 955 956 957 958 959 960 961 962 963 964 965 966 967 968 969 970 971 972 973 974 975 976 977 978 979 980 981 982 983 984 985 986 987 988 989 990 991 992 993 994 995 996 997 998 999\n",
            "выборочное среднее: 9.928\n",
            "выборочная дисперсия: 208.282\n"
          ]
        }
      ]
    },
    {
      "cell_type": "code",
      "source": [
        "array_set = sorted(set(final_sample))\n",
        "print(\"встретившиеся интервалы\", array_set)"
      ],
      "metadata": {
        "colab": {
          "base_uri": "https://localhost:8080/",
          "height": 0
        },
        "id": "043IicA0fMmN",
        "outputId": "8542c914-9b27-4656-a07c-bb29c52867b3"
      },
      "execution_count": 142,
      "outputs": [
        {
          "output_type": "stream",
          "name": "stdout",
          "text": [
            "встретившиеся интервалы [0, 1, 2, 3, 4, 5, 6, 7, 8, 9, 10, 11, 12, 13, 14, 15, 16, 17, 18, 19, 20, 21, 22, 23, 24, 25, 26, 27, 28, 29, 30, 31, 32, 33, 34, 35, 36, 37, 38, 39, 40, 41, 43, 45, 46, 47, 48, 49, 50, 54, 56, 58, 60, 71, 86]\n"
          ]
        }
      ]
    },
    {
      "cell_type": "code",
      "source": [
        "array_including = {}\n",
        "for x in final_sample:\n",
        "    array_including[x] = array_including.get(x, 0) + 1\n",
        "print(\"Колличество интервалов: \", array_including)"
      ],
      "metadata": {
        "colab": {
          "base_uri": "https://localhost:8080/",
          "height": 0
        },
        "id": "ifLQyRC3gRBj",
        "outputId": "d1b3abf9-0a19-4988-d4c6-67b4c5873875"
      },
      "execution_count": 140,
      "outputs": [
        {
          "output_type": "stream",
          "name": "stdout",
          "text": [
            "Колличество интервалов:  {1: 91, 12: 35, 2: 90, 7: 43, 6: 52, 14: 24, 24: 12, 10: 38, 5: 56, 16: 25, 0: 84, 34: 2, 8: 44, 71: 2, 13: 26, 9: 51, 19: 12, 11: 30, 38: 4, 37: 1, 35: 3, 15: 20, 17: 17, 22: 16, 30: 4, 25: 6, 3: 57, 36: 3, 18: 17, 32: 8, 50: 1, 4: 49, 33: 5, 20: 7, 29: 5, 28: 8, 27: 10, 23: 7, 31: 6, 54: 1, 60: 1, 26: 7, 43: 2, 21: 5, 45: 1, 49: 3, 47: 1, 41: 1, 86: 1, 58: 1, 48: 1, 56: 1, 46: 1, 40: 1, 39: 1}\n"
          ]
        }
      ]
    },
    {
      "cell_type": "markdown",
      "source": [
        "![image.png](data:image/png;base64,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)"
      ],
      "metadata": {
        "id": "fKKJEtAphS0h"
      }
    },
    {
      "cell_type": "code",
      "source": [
        "print(\"Степени свободы:\", array_set[-1]-2)\n",
        "chiSquad = 0\n",
        "\n",
        "i = 0\n",
        "for number in array_set:\n",
        "        chiSquad += ((array_including[number] - N*p_k(number, a))**2)/(N*p_k(number, a))\n",
        "\n",
        "print(\"Критерий хи квадрат: \", chiSquad)\n"
      ],
      "metadata": {
        "colab": {
          "base_uri": "https://localhost:8080/",
          "height": 0
        },
        "id": "YlNv5VzjBmzs",
        "outputId": "50ed5c73-7abb-4e2b-c2be-989f48842f61"
      },
      "execution_count": 141,
      "outputs": [
        {
          "output_type": "stream",
          "name": "stdout",
          "text": [
            "Степени свободы: 84\n",
            "Критерий хи квадрат:  121.38203882080074\n"
          ]
        }
      ]
    },
    {
      "cell_type": "markdown",
      "source": [
        "![image.png](data:image/png;base64,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)"
      ],
      "metadata": {
        "id": "enenseFekr4X"
      }
    },
    {
      "cell_type": "markdown",
      "source": [
        "#2 Задание"
      ],
      "metadata": {
        "id": "g6UuxHiGkxjS"
      }
    },
    {
      "cell_type": "code",
      "source": [
        "import math\n",
        "import numpy as np\n",
        "import random\n",
        "import matplotlib.pyplot as plt"
      ],
      "metadata": {
        "id": "1XeHltoYk1Uc"
      },
      "execution_count": 207,
      "outputs": []
    },
    {
      "cell_type": "markdown",
      "source": [
        "![image.png](data:image/png;base64,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)"
      ],
      "metadata": {
        "id": "NLQcY4HSlFq8"
      }
    },
    {
      "cell_type": "code",
      "source": [
        "def p_csi(x, c):\n",
        "    return c*math.cos(x)/x"
      ],
      "metadata": {
        "id": "eSyhs0BAp3PA"
      },
      "execution_count": 237,
      "outputs": []
    },
    {
      "cell_type": "code",
      "source": [
        "a = math.pi/6\n",
        "b = math.pi/4"
      ],
      "metadata": {
        "id": "Mp54O0wflRf7"
      },
      "execution_count": 236,
      "outputs": []
    },
    {
      "cell_type": "markdown",
      "source": [
        "численно находим значение интегралла для С"
      ],
      "metadata": {
        "id": "DPlhhHEamjPJ"
      }
    },
    {
      "cell_type": "code",
      "source": [
        "def fu_for_C():\n",
        "    n = 10000\n",
        "    h = (b-a)/n\n",
        "    f_s = 0\n",
        "    x = a\n",
        "    for i in range(n):\n",
        "        f_s += p_csi(x, 1)\n",
        "        x += h\n",
        "    return f_s*h\n",
        "c = 1/(fu_for_C())\n",
        "c"
      ],
      "metadata": {
        "colab": {
          "base_uri": "https://localhost:8080/",
          "height": 0
        },
        "id": "fAFCQKc-mpfJ",
        "outputId": "3d403e08-1d6a-4bb7-ebdb-cba3478f715b"
      },
      "execution_count": 238,
      "outputs": [
        {
          "output_type": "execute_result",
          "data": {
            "text/plain": [
              "3.0966190341194895"
            ]
          },
          "metadata": {},
          "execution_count": 238
        }
      ]
    },
    {
      "cell_type": "code",
      "source": [
        "x = np.arange(a, b, 0.01)\n",
        "p = [p_csi(i, c) for i in x]\n",
        "plt.scatter(x, p)\n",
        "plt.show()"
      ],
      "metadata": {
        "colab": {
          "base_uri": "https://localhost:8080/",
          "height": 265
        },
        "id": "yMm5G2e8syGO",
        "outputId": "a5ca0962-fde9-44d6-d138-bf297c2382e6"
      },
      "execution_count": 266,
      "outputs": [
        {
          "output_type": "display_data",
          "data": {
            "text/plain": [
              "<Figure size 432x288 with 1 Axes>"
            ],
            "image/png": "[encoded data removed]"
          },
          "metadata": {
            "needs_background": "light"
          }
        }
      ]
    },
    {
      "cell_type": "markdown",
      "source": [
        "находим значение интегралла для мат ожидания"
      ],
      "metadata": {
        "id": "CQ4TsAYKnGDk"
      }
    },
    {
      "cell_type": "code",
      "source": [
        "def fu_for_E(с):\n",
        "    n = 10000\n",
        "    h = (b-a)/n\n",
        "    f_s = 0\n",
        "    x = a\n",
        "    for i in range(n):\n",
        "        f_s += p_csi(x, c) * x\n",
        "        x += h\n",
        "    return f_s*h\n",
        "print('Теоретическое среднее:', fu_for_E(c))"
      ],
      "metadata": {
        "colab": {
          "base_uri": "https://localhost:8080/",
          "height": 0
        },
        "id": "kvEI5C_LnL1F",
        "outputId": "171f94cf-8eb3-4361-d1ce-395589c1f580"
      },
      "execution_count": 240,
      "outputs": [
        {
          "output_type": "stream",
          "name": "stdout",
          "text": [
            "Теоретическое среднее: 0.641337242391227\n"
          ]
        }
      ]
    },
    {
      "cell_type": "markdown",
      "source": [
        "находим значение интегралла для дисперсии"
      ],
      "metadata": {
        "id": "6f_EErd8wgBt"
      }
    },
    {
      "cell_type": "code",
      "source": [
        "def fu_for_D(с):\n",
        "    n = 10000\n",
        "    h = (b-a)/n\n",
        "    f_s = 0\n",
        "    x = a\n",
        "    for i in range(n):\n",
        "        f_s += p_csi(x, c)*x*x\n",
        "        x += h\n",
        "    return f_s*h\n",
        "print('Теоретическая дисперсия:', fu_for_D(c) - (fu_for_E(c)**2))"
      ],
      "metadata": {
        "colab": {
          "base_uri": "https://localhost:8080/",
          "height": 0
        },
        "id": "INBL4C9Do2w5",
        "outputId": "5fc6c528-7232-4872-9d6d-cbac40e45b95"
      },
      "execution_count": 241,
      "outputs": [
        {
          "output_type": "stream",
          "name": "stdout",
          "text": [
            "Теоретическая дисперсия: 0.005618495625580644\n"
          ]
        }
      ]
    },
    {
      "cell_type": "code",
      "source": [
        "p"
      ],
      "metadata": {
        "colab": {
          "base_uri": "https://localhost:8080/",
          "height": 0
        },
        "id": "kvniFlxvpXVP",
        "outputId": "1adda3d6-6e3f-4047-b376-c1aae20a7072"
      },
      "execution_count": 242,
      "outputs": [
        {
          "output_type": "execute_result",
          "data": {
            "text/plain": [
              "[1.6731104045299319,\n",
              " 1.2769221667356525,\n",
              " 0.9350699330610528,\n",
              " 0.6371861264027412,\n",
              " 0.37594534991413725,\n",
              " 0.14603077673637085,\n",
              " -0.05651237284085551,\n",
              " -0.23469547851589617,\n",
              " -0.39086573945468545,\n",
              " -0.5268971717272485,\n",
              " -0.6443241075202475,\n",
              " -0.7444362175261903,\n",
              " -0.828347164224314,\n",
              " -0.897044786727177,\n",
              " -0.9514280896604644,\n",
              " -0.9923346275863769,\n",
              " -1.0205607783866169,\n",
              " -1.0368766678471149,\n",
              " -1.0420370123168519,\n",
              " -1.0367888053572263,\n",
              " -1.0218765362028042]"
            ]
          },
          "metadata": {},
          "execution_count": 242
        }
      ]
    },
    {
      "cell_type": "code",
      "source": [
        "N = 10000\n",
        "array_memorize_x = np.zeros(N)\n",
        "i = 0\n",
        "while i < N:\n",
        "    csi = a + (b - a)*random.random()\n",
        "    D = p_csi(a, c)\n",
        "    eta = D*random.random()\n",
        "    if eta < p_csi(csi, c):\n",
        "        array_memorize_x[i] = csi\n",
        "        i += 1\n",
        "print(array_memorize_x)"
      ],
      "metadata": {
        "colab": {
          "base_uri": "https://localhost:8080/",
          "height": 0
        },
        "id": "MNkvaEp3uHqS",
        "outputId": "3b5178e4-65a6-4d79-b7b7-55805ee2b721"
      },
      "execution_count": 251,
      "outputs": [
        {
          "output_type": "stream",
          "name": "stdout",
          "text": [
            "[0.52428148 0.65094178 0.6241131  ... 0.68972665 0.63262221 0.73501567]\n"
          ]
        }
      ]
    },
    {
      "cell_type": "code",
      "source": [
        "print('Выборочное среднее :', np.sum(array_memorize_x)/N)\n",
        "print('Выборочная дисперсия :', ((array_memorize_x - array_memorize_x.sum()/N)**2).sum()/N)"
      ],
      "metadata": {
        "colab": {
          "base_uri": "https://localhost:8080/",
          "height": 0
        },
        "id": "OQQA9xeeuuv0",
        "outputId": "c3063440-30ad-4fc6-f087-2c3b95b2d06f"
      },
      "execution_count": 252,
      "outputs": [
        {
          "output_type": "stream",
          "name": "stdout",
          "text": [
            "Выборочное среднее : 0.6409353629714558\n",
            "Выборочная дисперсия : 0.005527769750765449\n"
          ]
        }
      ]
    },
    {
      "cell_type": "code",
      "source": [
        "K = int(1 + math.log(N, 2))\n",
        "h = (array_memorize_x.max() - array_memorize_x.min())/K\n",
        "\n",
        "print(K, h)"
      ],
      "metadata": {
        "colab": {
          "base_uri": "https://localhost:8080/",
          "height": 0
        },
        "id": "Lo5riEd5uyaM",
        "outputId": "4535bc47-6d7e-4b80-dfd6-964305ffa672"
      },
      "execution_count": 253,
      "outputs": [
        {
          "output_type": "stream",
          "name": "stdout",
          "text": [
            "14 0.018699394361303395\n"
          ]
        }
      ]
    },
    {
      "cell_type": "code",
      "source": [
        "pract_chast = []\n",
        "teor_chast = []\n",
        "eps = 1e-10\n",
        "\n",
        "def F_csi(x, c):\n",
        "    summma = 0\n",
        "    next_number = 1\n",
        "    iterator = 1\n",
        "    while(abs(next_number)>1e-10):\n",
        "        next_number = ((-1)**(iterator))*(x**(2*iterator))/math.factorial(2*iterator)/(2*iterator)\n",
        "        summma += next_number\n",
        "        iterator += 1\n",
        "    return(c*(summma+math.log(abs(x),math.e)))\n",
        "\n",
        "H = array_memorize_x.min()\n",
        "\n",
        "for i in range(K):\n",
        "    count = 0\n",
        "    for j in array_memorize_x:\n",
        "      if H - eps  < j < H + h + eps:\n",
        "          count += 1\n",
        "    pract_chast += [count]\n",
        "    teor_chast += [N*(F_csi(H + h, c) - F_csi(H, c))]\n",
        "    H += h\n",
        "\n",
        "print(pract_chast)\n",
        "print(teor_chast)"
      ],
      "metadata": {
        "colab": {
          "base_uri": "https://localhost:8080/",
          "height": 0
        },
        "id": "cKjBmMtQvCF_",
        "outputId": "1e9be108-b5eb-4be5-ba9a-149b6b69f8cc"
      },
      "execution_count": 254,
      "outputs": [
        {
          "output_type": "stream",
          "name": "stdout",
          "text": [
            "[901, 903, 852, 862, 755, 777, 745, 672, 696, 614, 600, 584, 516, 523]\n",
            "[935.9237768964945, 894.0614062208718, 854.642363673337, 817.4372967400334, 782.2451900776439, 748.8891329535275, 717.2128232045604, 687.077662300608, 658.3603281227068, 630.9507362339417, 604.7503189753245, 579.6705660383328, 555.6317813020262, 532.5620194421288]\n"
          ]
        }
      ]
    },
    {
      "cell_type": "code",
      "source": [
        "chi_2 = 0.0\n",
        "for i in range(K):\n",
        "    chi_2 += (teor_chast[i]-pract_chast[i]) ** 2 / teor_chast[i]\n",
        "\n",
        "print('Колличество степеней свободы :', K - 1)\n",
        "print('Критерий хи квадрат :', chi_2)\n"
      ],
      "metadata": {
        "colab": {
          "base_uri": "https://localhost:8080/",
          "height": 0
        },
        "id": "AABTKX8L2fwi",
        "outputId": "0386a498-0454-4cac-a10f-19bb5e4fc0f9"
      },
      "execution_count": 255,
      "outputs": [
        {
          "output_type": "stream",
          "name": "stdout",
          "text": [
            "Колличество степеней свободы : 13\n",
            "Критерий хи квадрат : 12.917099254899583\n"
          ]
        }
      ]
    }
  ]
}